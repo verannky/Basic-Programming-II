{
 "cells": [
  {
   "cell_type": "markdown",
   "id": "81767a90",
   "metadata": {},
   "source": [
    "**No.1**\n",
    "\n",
    "Buat program interaktif yang akan menampilkan angka berurutan secara mundur dari nilai x dan y dan dimasukkan"
   ]
  },
  {
   "cell_type": "markdown",
   "id": "b585aef4",
   "metadata": {},
   "source": [
    "#Cara 1"
   ]
  },
  {
   "cell_type": "code",
   "execution_count": 3,
   "id": "071e0e2c",
   "metadata": {},
   "outputs": [
    {
     "name": "stdout",
     "output_type": "stream",
     "text": [
      "masukkan batas atas:20\n",
      "masukkan batas bawah:15\n",
      "19\n",
      "18\n",
      "17\n",
      "16\n"
     ]
    }
   ],
   "source": [
    "batas_atas = int(input(\"masukkan batas atas:\"))\n",
    "batas_bawah= int(input(\"masukkan batas bawah:\")) \n",
    "\n",
    "while batas_atas>batas_bawah+1:\n",
    " batas_atas-=1 #untuk mereverse angka\n",
    " print(batas_atas)"
   ]
  },
  {
   "cell_type": "markdown",
   "id": "5ad11006",
   "metadata": {},
   "source": [
    "#Cara 2"
   ]
  },
  {
   "cell_type": "code",
   "execution_count": 4,
   "id": "2db0e54c",
   "metadata": {},
   "outputs": [
    {
     "name": "stdout",
     "output_type": "stream",
     "text": [
      "masukkan batas atas:20\n",
      "masukkan batas bawah:15\n",
      "19\n",
      "18\n",
      "17\n",
      "16\n"
     ]
    }
   ],
   "source": [
    "batas_atas = int(input(\"masukkan batas atas:\"))\n",
    "batas_bawah = int(input(\"masukkan batas bawah:\"))\n",
    "\n",
    "numbers=range(batas_bawah+1,batas_atas)\n",
    "reversed_range=reversed(numbers)\n",
    "for num in reversed_range:\n",
    "    print(num)"
   ]
  },
  {
   "cell_type": "markdown",
   "id": "c2d3a949",
   "metadata": {},
   "source": [
    "**No.2**\n",
    "\n",
    "Buatlah program interaktif yang akan melakukan penghitungan hasil\n",
    "investasi dengan inputan berupa nilai awal investasi, lama investasi\n",
    "saham satuan tahun, dan keuntungan per tahun. Program akan\n",
    "menampilkan simulasi penghasilan per tahun. Penghitungan bunga dilakukan menggunakan rumus bunga majemuk(bunga didapatkan dari pokok sebelumnya)"
   ]
  },
  {
   "cell_type": "code",
   "execution_count": 6,
   "id": "018bfa85",
   "metadata": {},
   "outputs": [
    {
     "name": "stdout",
     "output_type": "stream",
     "text": [
      "masukkan nilai awal investasi:1000000\n",
      "masukkan lama investasi(tahun):5\n",
      "masukkan suku bunga(%):6\n",
      "Tahun Ke- 1 ,jumlah investasi anda:1060000.00\n",
      "Tahun Ke- 2 ,jumlah investasi anda:1123600.00\n",
      "Tahun Ke- 3 ,jumlah investasi anda:1191016.00\n",
      "Tahun Ke- 4 ,jumlah investasi anda:1262476.96\n",
      "Tahun Ke- 5 ,jumlah investasi anda:1338225.58\n"
     ]
    }
   ],
   "source": [
    "nilai_awal=int(input(\"masukkan nilai awal investasi:\"))\n",
    "lama=int(input(\"masukkan lama investasi(tahun):\"))\n",
    "bunga=int(input(\"masukkan suku bunga(%):\"))\n",
    "hitung = (1+(bunga/100))\n",
    "i=0\n",
    "\n",
    "for durasi in range(1,lama+1):\n",
    "    jumlah = nilai_awal*((hitung)**durasi)\n",
    "    i=i+1\n",
    "    print(\"Tahun Ke-\",i,\",jumlah investasi anda:{:.2f}\".format(jumlah))"
   ]
  },
  {
   "cell_type": "markdown",
   "id": "fe4ce656",
   "metadata": {},
   "source": [
    "**No.3**\n",
    "\n",
    "Buatlah program interaktif yang akan melakukan penghitungan FPB dari\n",
    "dua bilangan integer positif yang dimasukkan. Cara penghitungan yang\n",
    "bisa dilakukan adalah dengan menggunakan perulangan dan kondisi saja, tidak menggunakan library lain"
   ]
  },
  {
   "cell_type": "markdown",
   "id": "0bef6e9f",
   "metadata": {},
   "source": [
    "#Cara 1"
   ]
  },
  {
   "cell_type": "code",
   "execution_count": null,
   "id": "8d83ccd0",
   "metadata": {},
   "outputs": [
    {
     "name": "stdout",
     "output_type": "stream",
     "text": [
      "Masukkan angka 1:20\n",
      "Masukkan angka 2:15\n",
      "FPB dari bilangan tersebut adalah:5\n"
     ]
    }
   ],
   "source": [
    "count=0\n",
    "while count < 1:\n",
    "    angka1=int(input(\"Masukkan angka 1:\"))\n",
    "    angka2=int(input(\"Masukkan angka 2:\"))\n",
    "    if angka1>angka2:\n",
    "     small=angka2\n",
    "    else:\n",
    "     small=angka1\n",
    "    for i in range(1,small+1):\n",
    "        if((angka1%i==0) and (angka2%i==0)):\n",
    "            FPB=i\n",
    "    print(\"FPB dari bilangan tersebut adalah:\",end=\"\")\n",
    "    print(FPB)\n",
    "\n",
    "    answer = input(\"Apakah anda ingin melakukan perhitungan lagi?ya/tidak:\")\n",
    "    if answer ==\"ya\":\n",
    "        count=0\n",
    "    elif answer==\"tidak\":\n",
    "        count=2\n",
    "        print(\"selesai\")"
   ]
  },
  {
   "cell_type": "markdown",
   "id": "db050063",
   "metadata": {},
   "source": [
    "#Cara 2"
   ]
  },
  {
   "cell_type": "code",
   "execution_count": 18,
   "id": "8b6437e5",
   "metadata": {},
   "outputs": [
    {
     "name": "stdout",
     "output_type": "stream",
     "text": [
      "masukkan angka 1:20\n",
      "masukkan angka 2:15\n",
      "FPB dari bilangan tersebut adalah:5\n"
     ]
    }
   ],
   "source": [
    "def FPB_Loop(angka_satu,angka_dua):  \n",
    "    if angka_satu > angka_dua:\n",
    "        lebih_kecil = angka_dua \n",
    "    else:  \n",
    "        lebih_kecil = angka_satu \n",
    "    for i in range(1, lebih_kecil + 1):  \n",
    "        if ((angka_satu%i == 0) and (angka_dua% i == 0 )):  \n",
    "            FPB = i  \n",
    "    return FPB  \n",
    "x = int(input (\"masukkan angka 1:\")) \n",
    "y = int (input (\"masukkan angka 2:\")) \n",
    "num = FPB_Loop(x, y)\n",
    "print(\"FPB dari bilangan tersebut adalah:\",end=\"\")  \n",
    "print(num)"
   ]
  },
  {
   "cell_type": "code",
   "execution_count": null,
   "id": "ea8d752d",
   "metadata": {},
   "outputs": [],
   "source": []
  }
 ],
 "metadata": {
  "kernelspec": {
   "display_name": "Python 3",
   "language": "python",
   "name": "python3"
  }
 },
 "nbformat": 4,
 "nbformat_minor": 5
}
